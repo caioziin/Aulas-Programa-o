{
  "nbformat": 4,
  "nbformat_minor": 0,
  "metadata": {
    "colab": {
      "provenance": [],
      "authorship_tag": "ABX9TyNiSCJ+fXK03hqdkI1VPoZ/",
      "include_colab_link": true
    },
    "kernelspec": {
      "name": "python3",
      "display_name": "Python 3"
    },
    "language_info": {
      "name": "python"
    }
  },
  "cells": [
    {
      "cell_type": "markdown",
      "metadata": {
        "id": "view-in-github",
        "colab_type": "text"
      },
      "source": [
        "<a href=\"https://colab.research.google.com/github/caioziin/Aulas-Programa-o/blob/main/Aula_02.ipynb\" target=\"_parent\"><img src=\"https://colab.research.google.com/assets/colab-badge.svg\" alt=\"Open In Colab\"/></a>"
      ]
    },
    {
      "cell_type": "code",
      "execution_count": 3,
      "metadata": {
        "colab": {
          "base_uri": "https://localhost:8080/"
        },
        "id": "0Pmkmhihkzkl",
        "outputId": "a7b6a2bd-71de-4392-dff6-850c685f6378"
      },
      "outputs": [
        {
          "output_type": "stream",
          "name": "stdout",
          "text": [
            "Digite seu ano de nascimento! 2003\n",
            "Sua idade é :  20\n"
          ]
        }
      ],
      "source": [
        "#Código para dizer a idade da pessoa \n",
        "anoNascim = input('Digite seu ano de nascimento! ')\n",
        "print('Sua idade é : ' ,2023-int(anoNascim))"
      ]
    },
    {
      "cell_type": "code",
      "source": [
        "#Solicita a altura e o peso de alguém, e retorna o IMC\n",
        "#imc = peso / altura**2\n",
        "\n",
        "peso = float(input('Digite seu peso! '))\n",
        "altura = float(input('Digite sua altura! '))\n",
        "imc = peso/altura**2\n",
        "print('O IMC é:' ,imc)"
      ],
      "metadata": {
        "colab": {
          "base_uri": "https://localhost:8080/"
        },
        "id": "70iS_DKUpFkt",
        "outputId": "9fd99166-4225-4791-a2c9-3050649b360d"
      },
      "execution_count": 8,
      "outputs": [
        {
          "output_type": "stream",
          "name": "stdout",
          "text": [
            "Digite seu peso! 64\n",
            "Digite sua altura! 1.80\n",
            "O IMC é: 19.753086419753085\n"
          ]
        }
      ]
    },
    {
      "cell_type": "code",
      "source": [
        "#Verificações lógicas \n",
        "a = 45\n",
        "b = 33 \n",
        "print(a > b)\n",
        "print(a < b)\n"
      ],
      "metadata": {
        "id": "v88fvByDvFaZ"
      },
      "execution_count": null,
      "outputs": []
    },
    {
      "cell_type": "code",
      "source": [
        "#Verificar se um número e par \n",
        "num = int(input('Digite um número: '))\n",
        "if(num%2 == 0):\n",
        "  print('O número é par') \n",
        "else:\n",
        "  print('O número é ímpar')   "
      ],
      "metadata": {
        "colab": {
          "base_uri": "https://localhost:8080/"
        },
        "id": "NkTdLShGvs0z",
        "outputId": "e6ad21da-aaa1-4a1f-9b62-69536afdbe46"
      },
      "execution_count": 21,
      "outputs": [
        {
          "output_type": "stream",
          "name": "stdout",
          "text": [
            "Digite um número: 20\n",
            "O número é par\n"
          ]
        }
      ]
    },
    {
      "cell_type": "code",
      "source": [
        "#Em um campeonato de MMA, tem três categorias por peso \n",
        "#galo ate 70kg\n",
        "#médio até 80kg \n",
        "#meio pesado ate 90kg\n",
        "#pesado mais de 90 kg\n",
        "peso = float(input('Digite o peso do atleta:'))\n",
        "if(peso <= 70):\n",
        "  print('Galo') \n",
        "elif(peso <= 80):   \n",
        "  print('médio')\n",
        "elif(peso <= 90):\n",
        "  print('meio pesado')\n",
        "else:\n",
        "  print(' pesado')   \n"
      ],
      "metadata": {
        "colab": {
          "base_uri": "https://localhost:8080/"
        },
        "id": "Q3darKbSyV2Y",
        "outputId": "cb9805fb-819b-48bf-ce7d-74f385901b52"
      },
      "execution_count": 26,
      "outputs": [
        {
          "output_type": "stream",
          "name": "stdout",
          "text": [
            "Digite o peso do atleta:100\n",
            " pesado\n"
          ]
        }
      ]
    },
    {
      "cell_type": "code",
      "source": [
        "peso = float(input('Digite seu peso! '))\n",
        "altura = float(input('Digite sua altura! '))\n",
        "imc = peso/altura**2\n",
        "if(imc < 18.5):\n",
        "  print('Abaixo do peso normal')\n",
        "elif(imc < 25): \n",
        "  print('Peso normal')\n",
        "elif(imc < 30):\n",
        "  print('Excesso de peso')\n",
        "elif(imc < 35):\n",
        "  print('Obsidade classe I') \n",
        "elif(imc < 40):\n",
        "  print('Obsidade classe II')\n",
        "else:\n",
        "  print('Obsidade classe III')\n",
        "print('O IMC do Paciente é:', round(imc,2))"
      ],
      "metadata": {
        "colab": {
          "base_uri": "https://localhost:8080/"
        },
        "id": "tfRnQP5E1XX3",
        "outputId": "75fc0283-63fd-48f0-a9bc-f360879b6226"
      },
      "execution_count": 48,
      "outputs": [
        {
          "output_type": "stream",
          "name": "stdout",
          "text": [
            "Digite seu peso! 64\n",
            "Digite sua altura! 1.80\n",
            "Peso normal\n",
            "O IMC do Paciente é: 19.75\n"
          ]
        }
      ]
    }
  ]
}