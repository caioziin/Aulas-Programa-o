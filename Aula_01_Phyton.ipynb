{
  "nbformat": 4,
  "nbformat_minor": 0,
  "metadata": {
    "colab": {
      "provenance": [],
      "authorship_tag": "ABX9TyMspXIm3NZ36W5iP5XS1pPX",
      "include_colab_link": true
    },
    "kernelspec": {
      "name": "python3",
      "display_name": "Python 3"
    },
    "language_info": {
      "name": "python"
    }
  },
  "cells": [
    {
      "cell_type": "markdown",
      "metadata": {
        "id": "view-in-github",
        "colab_type": "text"
      },
      "source": [
        "<a href=\"https://colab.research.google.com/github/caioziin/Aulas-Programa-o/blob/main/Aula_01_Phyton.ipynb\" target=\"_parent\"><img src=\"https://colab.research.google.com/assets/colab-badge.svg\" alt=\"Open In Colab\"/></a>"
      ]
    },
    {
      "cell_type": "code",
      "execution_count": 3,
      "metadata": {
        "colab": {
          "base_uri": "https://localhost:8080/"
        },
        "id": "pILiys_4ua4w",
        "outputId": "bdb907b2-8138-4ed5-f6a3-688a6c49ab8f"
      },
      "outputs": [
        {
          "output_type": "stream",
          "name": "stdout",
          "text": [
            "Eu vou programar, geral!\n"
          ]
        }
      ],
      "source": [
        "print(\"Eu vou programar, geral!\")\n"
      ]
    },
    {
      "cell_type": "code",
      "source": [
        "#Variáveis\n",
        "nome = \"Caiozin\"\n",
        "print(nome)"
      ],
      "metadata": {
        "colab": {
          "base_uri": "https://localhost:8080/"
        },
        "id": "UWlak1xIwcbv",
        "outputId": "df67198a-20ff-4629-99f7-f5376a68c345"
      },
      "execution_count": 4,
      "outputs": [
        {
          "output_type": "stream",
          "name": "stdout",
          "text": [
            "Caiozin\n"
          ]
        }
      ]
    },
    {
      "cell_type": "code",
      "source": [
        "#Operações com variáveis\n",
        "a = 20\n",
        "b = 35\n",
        "adiçao = a + b \n",
        "subtracao = a - b \n",
        "divisao = a * b\n",
        "multiplicacao = a / b\n",
        "print(adiçao)\n",
        "print(subtracao)\n",
        "print(divisao)\n",
        "print(multiplicacao)"
      ],
      "metadata": {
        "colab": {
          "base_uri": "https://localhost:8080/"
        },
        "id": "bKt-rY55w0fD",
        "outputId": "fa479ec6-9400-4cc9-f877-bad9c3008657"
      },
      "execution_count": 9,
      "outputs": [
        {
          "output_type": "stream",
          "name": "stdout",
          "text": [
            "55\n",
            "-15\n",
            "700\n",
            "0.5714285714285714\n"
          ]
        }
      ]
    },
    {
      "cell_type": "markdown",
      "source": [
        "1. Pega o número de uma variável, e devolve o dobro\n",
        "2. Lê 3 notas e devolve a média aritmética\n",
        "3. Pede o ano de nascimento da pessoa e calcula a idade atual dela.\n",
        " "
      ],
      "metadata": {
        "id": "-ckyZELgyW-k"
      }
    },
    {
      "cell_type": "code",
      "source": [
        "#Dobro \n",
        "num = 42 \n",
        "print(num * 2)"
      ],
      "metadata": {
        "colab": {
          "base_uri": "https://localhost:8080/"
        },
        "id": "hxCL3LIczAqU",
        "outputId": "98e0f477-3630-41f1-bf8a-e4f29f83801d"
      },
      "execution_count": 17,
      "outputs": [
        {
          "output_type": "stream",
          "name": "stdout",
          "text": [
            "84\n"
          ]
        }
      ]
    },
    {
      "cell_type": "code",
      "source": [
        "#Media \n",
        "n1 = 8 \n",
        "n2 = 6.5 \n",
        "n3 = 7 \n",
        "media = (n1 + n2 + n3)/3\n",
        "print(media)"
      ],
      "metadata": {
        "colab": {
          "base_uri": "https://localhost:8080/"
        },
        "id": "s21jjS4a0mU3",
        "outputId": "433ae5b9-53d5-447d-bf6b-d54771eb123b"
      },
      "execution_count": 18,
      "outputs": [
        {
          "output_type": "stream",
          "name": "stdout",
          "text": [
            "7.166666666666667\n"
          ]
        }
      ]
    },
    {
      "cell_type": "code",
      "source": [
        "#Calcule a idade \n",
        "anoNasc = 1969 \n",
        "print(2023 - 1969)"
      ],
      "metadata": {
        "colab": {
          "base_uri": "https://localhost:8080/"
        },
        "id": "iywyP7ed16Ll",
        "outputId": "17de3626-ac0a-4c82-f8ec-d60e5f5e54db"
      },
      "execution_count": 20,
      "outputs": [
        {
          "output_type": "stream",
          "name": "stdout",
          "text": [
            "54\n"
          ]
        }
      ]
    },
    {
      "cell_type": "code",
      "source": [
        "#Trabalhando com INPUTS \n",
        "nome = input('Digite seu nome ')\n",
        "print( 'Olá ' +nome)"
      ],
      "metadata": {
        "colab": {
          "base_uri": "https://localhost:8080/"
        },
        "id": "kHsBCQP62oau",
        "outputId": "9abc8665-8098-4629-c889-1bfe4c506986"
      },
      "execution_count": 29,
      "outputs": [
        {
          "output_type": "stream",
          "name": "stdout",
          "text": [
            "Digite seu nome Caio Sousa\n",
            "Olá Caio Sousa\n"
          ]
        }
      ]
    },
    {
      "cell_type": "code",
      "source": [
        "#Pede um número e multiplica por 3 \n",
        "#PARSE\n",
        "num = int(input (' Digita ai MSR! ')) \n",
        "print(num*3)"
      ],
      "metadata": {
        "colab": {
          "base_uri": "https://localhost:8080/"
        },
        "id": "1L8EHCqr5Rl1",
        "outputId": "092827bf-b168-439e-fdc3-75adec0cc910"
      },
      "execution_count": 32,
      "outputs": [
        {
          "output_type": "stream",
          "name": "stdout",
          "text": [
            " Digita ai MSR! 5\n",
            "15\n"
          ]
        }
      ]
    }
  ]
}